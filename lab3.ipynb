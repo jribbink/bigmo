{
 "cells": [
  {
   "cell_type": "markdown",
   "metadata": {},
   "source": [
    "# Lab 3: Introduction to Python\n",
    "In this lab you will be working on python basics.\n",
    "\n",
    "**This lab must be completed individually.**\n",
    "\n",
    "Where provided, try your best to match the **Sample Output** as best as you can.\n",
    "\n",
    "## Accept the lab\n",
    "\n",
    "To accept this lab on GitHub Classroom, [you must click this link](https://classroom.github.com/a/6V9fm8Hj)."
   ]
  },
  {
   "cell_type": "markdown",
   "metadata": {},
   "source": [
    "## Objectives\n",
    "\n",
    "1. Practice Python loops and conditions\n",
    "2. Practice Python lists and dictionaries\n",
    "3. Practice string manipulation in Python\n",
    "4. Practice importing and using the Pandas module"
   ]
  },
  {
   "cell_type": "markdown",
   "metadata": {},
   "source": [
    "## Part 1: Python Fundamentals (10 marks)\n",
    "\n",
    "This part of the lab takes you through some of the fundamental components of Python."
   ]
  },
  {
   "cell_type": "markdown",
   "metadata": {},
   "source": [
    "### 1A: `if-elif-else` statements (2 marks)\n",
    "\n",
    "Fill in missing pieces of the following code such that print statements make sense. You should replace `<YOUR_CODE_HERE>` with your code."
   ]
  },
  {
   "cell_type": "code",
   "execution_count": 61,
   "metadata": {},
   "outputs": [],
   "source": [
    "name = 'Test name'"
   ]
  },
  {
   "cell_type": "code",
   "execution_count": 62,
   "metadata": {},
   "outputs": [
    {
     "name": "stdout",
     "output_type": "stream",
     "text": [
      "Name \"Test name\" is 8, 9 or 10 chars long\n"
     ]
    }
   ],
   "source": [
    "### Your solution here\n",
    "\n",
    "if len(name) > 20:\n",
    "    print('Name \"{}\" is more than 20 chars long'.format(name))\n",
    "    length_description = 'long'\n",
    "elif len(name) > 15:\n",
    "    print('Name \"{}\" is more than 15 chars long'.format(name))\n",
    "    length_description = 'semi long'\n",
    "elif len(name) > 10:\n",
    "    print('Name \"{}\" is more than 10 chars long'.format(name))\n",
    "    length_description = 'semi long'\n",
    "elif len(name) > 7:\n",
    "    print('Name \"{}\" is 8, 9 or 10 chars long'.format(name))\n",
    "    length_description = 'semi short'\n",
    "else:\n",
    "    print('Name \"{}\" is a short name'.format(name))\n",
    "    length_description = 'short'"
   ]
  },
  {
   "attachments": {
    "c1ebdd3c-e25a-40e0-a136-35e8bf44cae8.png": {
     "image/png": "[encoded data removed]"
    }
   },
   "cell_type": "markdown",
   "metadata": {},
   "source": [
    "### 1B: `for` loops (2 marks)\n",
    "\n",
    "Fill `<YOUR_CODE_HERE>` in the code snippet below so that this sample output is printed:\n",
    "\n",
    "#### Sample Output\n",
    "![pattern.png](attachment:c1ebdd3c-e25a-40e0-a136-35e8bf44cae8.png)"
   ]
  },
  {
   "cell_type": "code",
   "execution_count": 49,
   "metadata": {},
   "outputs": [
    {
     "name": "stdout",
     "output_type": "stream",
     "text": [
      "    A\n",
      "   AA\n",
      "  AAA\n",
      " AAAA\n",
      "AAAAA\n",
      " AAAA\n",
      "  AAA\n",
      "   AA\n",
      "    A\n"
     ]
    }
   ],
   "source": [
    "### Your solution here\n",
    "\n",
    "n = 10\n",
    "for i in range(1,n):\n",
    "    if i < 5:\n",
    "        print(\" \" * (5-i) + \"A\"*i)\n",
    "    else:\n",
    "        print(\" \" * (i-5) + \"A\"*(10-i))"
   ]
  },
  {
   "cell_type": "markdown",
   "metadata": {},
   "source": [
    "### 1C: `for` loops and `lists`\n",
    "\n",
    "We have given you some sample code, as well as a list called `data`. \n",
    "\n",
    "> data = [50,10,5,90,62,12,90,40,13,18,1,7,42,19,16,17,88,81,10,51,32,81,54,32,43,4,23,48,60,9]\n",
    "\n",
    "For each of the exercises 1C1 - 1CX, use the `data` list to answer the question by writing the appropriate bits of python code."
   ]
  },
  {
   "cell_type": "markdown",
   "metadata": {},
   "source": [
    "#### 1C1. Print values that are outside the upper and lower bounds of 10 and 90 (2 marks)\n",
    "\n",
    "*Hint: Use a for loop and loop through each of the elements in data*\n",
    "\n",
    "##### Sample output (it's okay if yours is vertical rather than horizontally printed):\n",
    "\n",
    "> [9, 5, 5, 97, 92, 8, 91, 4]\n"
   ]
  },
  {
   "cell_type": "code",
   "execution_count": 22,
   "metadata": {},
   "outputs": [
    {
     "name": "stdout",
     "output_type": "stream",
     "text": [
      "[5, 1, 7, 100, 4]\n"
     ]
    }
   ],
   "source": [
    "data = [50,10,5,90,62,12,90,40,12,18,1,7,42,12,16,17,88,81,100,51,32,81,54,32,43,4,23,48,60,19]\n",
    "\n",
    "### Your solution here\n",
    "filtered = []\n",
    "for x in data:\n",
    "    if x < 10 or x > 90:\n",
    "        filtered.append(x)\n",
    "\n",
    "print(filtered)"
   ]
  },
  {
   "cell_type": "markdown",
   "metadata": {},
   "source": [
    "#### 1C2. Write code to calculate and print the maximum, minimum, sum, count, and average of items in `data`  (4 marks)\n",
    "\n",
    "*Hint: for the mean, you will need to combine the sum and the count*\n",
    "\n",
    "##### Sample output\n",
    "\n",
    "> The max is: 90 <br/>\n",
    "> The min is: 1 <br/>\n",
    "> The sum is: 1108 <br/>\n",
    "> The count is: 30 <br/>\n",
    "> The mean is: 36.933333333333333 <br/>"
   ]
  },
  {
   "cell_type": "code",
   "execution_count": 5,
   "metadata": {},
   "outputs": [
    {
     "name": "stdout",
     "output_type": "stream",
     "text": [
      "The max is: 100\n",
      "The min is: 1\n",
      "The sum is: 1200\n",
      "The count is: 30\n",
      "The mean is: 40.0\n"
     ]
    }
   ],
   "source": [
    "### Your solution here\n",
    "print('The max is: {0}'.format(max(data)))\n",
    "print('The min is: {0}'.format(min(data)))\n",
    "print('The sum is: {0}'.format(sum(data)))\n",
    "print('The count is: {0}'.format(len(data)))\n",
    "print('The mean is: {0}'.format(sum(data) / len(data)))"
   ]
  },
  {
   "cell_type": "markdown",
   "metadata": {},
   "source": [
    "#### 1D3. (Optional) Using list comprehension (NOT for loops), print out the numbers outside of the specified upper and lower bounds (inclusive) of 10 and 90 (0 marks).\n",
    "#### Sample output:\n",
    "[9, 5, 5, 97, 92, 8, 91, 4]"
   ]
  },
  {
   "cell_type": "code",
   "execution_count": 26,
   "metadata": {},
   "outputs": [
    {
     "name": "stdout",
     "output_type": "stream",
     "text": [
      "[5, 1, 7, 100, 4]\n"
     ]
    }
   ],
   "source": [
    "### Your solution here\n",
    "filtered = [x for x in data if x < 10 or x > 90]\n",
    "print(filtered)"
   ]
  },
  {
   "cell_type": "markdown",
   "metadata": {},
   "source": [
    "## Part 2: Working with data using pandas (12 marks)\n",
    "\n",
    "In this part of the lab, we will practice loading in a sample data set using pandas, and doing some basic operations."
   ]
  },
  {
   "cell_type": "markdown",
   "metadata": {},
   "source": [
    "### 2A1. Load in the data (4 marks)\n",
    "\n",
    "There is a `pokemon` dataset inside the `data` folder.\n",
    "\n",
    "Your task is to use the pandas [`read_csv()`](https://pandas.pydata.org/pandas-docs/stable/reference/api/pandas.read_csv.html) function to read this dataset, assign it to a dataframe called `df`, and then print its [`head`](https://pandas.pydata.org/pandas-docs/stable/reference/api/pandas.DataFrame.head.html) also known as the first 5 lines of the dataframe.\n",
    "\n",
    "*Hint: don't forget to first `import pandas as pd` to use `read_csv` and other pandas function.*"
   ]
  },
  {
   "cell_type": "code",
   "execution_count": 8,
   "metadata": {},
   "outputs": [
    {
     "data": {
      "text/html": [
       "<div>\n",
       "<style scoped>\n",
       "    .dataframe tbody tr th:only-of-type {\n",
       "        vertical-align: middle;\n",
       "    }\n",
       "\n",
       "    .dataframe tbody tr th {\n",
       "        vertical-align: top;\n",
       "    }\n",
       "\n",
       "    .dataframe thead th {\n",
       "        text-align: right;\n",
       "    }\n",
       "</style>\n",
       "<table border=\"1\" class=\"dataframe\">\n",
       "  <thead>\n",
       "    <tr style=\"text-align: right;\">\n",
       "      <th></th>\n",
       "      <th>#</th>\n",
       "      <th>Name</th>\n",
       "      <th>Type 1</th>\n",
       "      <th>Type 2</th>\n",
       "      <th>Total</th>\n",
       "      <th>HP</th>\n",
       "      <th>Attack</th>\n",
       "      <th>Defense</th>\n",
       "      <th>Sp. Atk</th>\n",
       "      <th>Sp. Def</th>\n",
       "      <th>Speed</th>\n",
       "      <th>Generation</th>\n",
       "      <th>Legendary</th>\n",
       "    </tr>\n",
       "  </thead>\n",
       "  <tbody>\n",
       "    <tr>\n",
       "      <th>0</th>\n",
       "      <td>1</td>\n",
       "      <td>Bulbasaur</td>\n",
       "      <td>Grass</td>\n",
       "      <td>Poison</td>\n",
       "      <td>318</td>\n",
       "      <td>45</td>\n",
       "      <td>49</td>\n",
       "      <td>49</td>\n",
       "      <td>65</td>\n",
       "      <td>65</td>\n",
       "      <td>45</td>\n",
       "      <td>1</td>\n",
       "      <td>False</td>\n",
       "    </tr>\n",
       "    <tr>\n",
       "      <th>1</th>\n",
       "      <td>2</td>\n",
       "      <td>Ivysaur</td>\n",
       "      <td>Grass</td>\n",
       "      <td>Poison</td>\n",
       "      <td>405</td>\n",
       "      <td>60</td>\n",
       "      <td>62</td>\n",
       "      <td>63</td>\n",
       "      <td>80</td>\n",
       "      <td>80</td>\n",
       "      <td>60</td>\n",
       "      <td>1</td>\n",
       "      <td>False</td>\n",
       "    </tr>\n",
       "    <tr>\n",
       "      <th>2</th>\n",
       "      <td>3</td>\n",
       "      <td>Venusaur</td>\n",
       "      <td>Grass</td>\n",
       "      <td>Poison</td>\n",
       "      <td>525</td>\n",
       "      <td>80</td>\n",
       "      <td>82</td>\n",
       "      <td>83</td>\n",
       "      <td>100</td>\n",
       "      <td>100</td>\n",
       "      <td>80</td>\n",
       "      <td>1</td>\n",
       "      <td>False</td>\n",
       "    </tr>\n",
       "    <tr>\n",
       "      <th>3</th>\n",
       "      <td>3</td>\n",
       "      <td>VenusaurMega Venusaur</td>\n",
       "      <td>Grass</td>\n",
       "      <td>Poison</td>\n",
       "      <td>625</td>\n",
       "      <td>80</td>\n",
       "      <td>100</td>\n",
       "      <td>123</td>\n",
       "      <td>122</td>\n",
       "      <td>120</td>\n",
       "      <td>80</td>\n",
       "      <td>1</td>\n",
       "      <td>False</td>\n",
       "    </tr>\n",
       "    <tr>\n",
       "      <th>4</th>\n",
       "      <td>4</td>\n",
       "      <td>Charmander</td>\n",
       "      <td>Fire</td>\n",
       "      <td>NaN</td>\n",
       "      <td>309</td>\n",
       "      <td>39</td>\n",
       "      <td>52</td>\n",
       "      <td>43</td>\n",
       "      <td>60</td>\n",
       "      <td>50</td>\n",
       "      <td>65</td>\n",
       "      <td>1</td>\n",
       "      <td>False</td>\n",
       "    </tr>\n",
       "  </tbody>\n",
       "</table>\n",
       "</div>"
      ],
      "text/plain": [
       "   #                   Name Type 1  Type 2  Total  HP  Attack  Defense  \\\n",
       "0  1              Bulbasaur  Grass  Poison    318  45      49       49   \n",
       "1  2                Ivysaur  Grass  Poison    405  60      62       63   \n",
       "2  3               Venusaur  Grass  Poison    525  80      82       83   \n",
       "3  3  VenusaurMega Venusaur  Grass  Poison    625  80     100      123   \n",
       "4  4             Charmander   Fire     NaN    309  39      52       43   \n",
       "\n",
       "   Sp. Atk  Sp. Def  Speed  Generation  Legendary  \n",
       "0       65       65     45           1      False  \n",
       "1       80       80     60           1      False  \n",
       "2      100      100     80           1      False  \n",
       "3      122      120     80           1      False  \n",
       "4       60       50     65           1      False  "
      ]
     },
     "execution_count": 8,
     "metadata": {},
     "output_type": "execute_result"
    }
   ],
   "source": [
    "### Your solution here\n",
    "import pandas as pd\n",
    "df = pd.read_csv(\"data/pokemon.csv\")\n",
    "\n",
    "df.head()"
   ]
  },
  {
   "cell_type": "markdown",
   "metadata": {},
   "source": [
    "### 2A2. How many total pokemon are there in the dataset? (2 mark)\n",
    "\n",
    "Make sure to use the `dataframe.count()` function to print the total number of entries in each column of the dataframe before you answer!"
   ]
  },
  {
   "cell_type": "code",
   "execution_count": 17,
   "metadata": {},
   "outputs": [
    {
     "name": "stdout",
     "output_type": "stream",
     "text": [
      "#             800\n",
      "Name          800\n",
      "Type 1        800\n",
      "Type 2        414\n",
      "Total         800\n",
      "HP            800\n",
      "Attack        800\n",
      "Defense       800\n",
      "Sp. Atk       800\n",
      "Sp. Def       800\n",
      "Speed         800\n",
      "Generation    800\n",
      "Legendary     800\n",
      "dtype: int64\n",
      "There are 800 Pokemon\n"
     ]
    }
   ],
   "source": [
    "### Your solution here\n",
    "print(df.count())\n",
    "print(\"There are \" + str(len(df)) + \" Pokemon\")\n",
    "#Based on df.count and len(df), there are 800 pokemon, Type 2 column doesn't always have a value(only 414)"
   ]
  },
  {
   "cell_type": "markdown",
   "metadata": {},
   "source": [
    "### 2A3. Create a new dataframe `df2` that only includes the Pokemon that are Legendary Pokemon (2 marks)\n",
    "\n",
    "*Hint: Remember that you can subset dataframes using the `[]` syntax. [More on this here](https://pandas.pydata.org/docs/getting_started/intro_tutorials/03_subset_data.html)*"
   ]
  },
  {
   "cell_type": "code",
   "execution_count": 19,
   "metadata": {},
   "outputs": [
    {
     "data": {
      "text/html": [
       "<div>\n",
       "<style scoped>\n",
       "    .dataframe tbody tr th:only-of-type {\n",
       "        vertical-align: middle;\n",
       "    }\n",
       "\n",
       "    .dataframe tbody tr th {\n",
       "        vertical-align: top;\n",
       "    }\n",
       "\n",
       "    .dataframe thead th {\n",
       "        text-align: right;\n",
       "    }\n",
       "</style>\n",
       "<table border=\"1\" class=\"dataframe\">\n",
       "  <thead>\n",
       "    <tr style=\"text-align: right;\">\n",
       "      <th></th>\n",
       "      <th>#</th>\n",
       "      <th>Name</th>\n",
       "      <th>Type 1</th>\n",
       "      <th>Type 2</th>\n",
       "      <th>Total</th>\n",
       "      <th>HP</th>\n",
       "      <th>Attack</th>\n",
       "      <th>Defense</th>\n",
       "      <th>Sp. Atk</th>\n",
       "      <th>Sp. Def</th>\n",
       "      <th>Speed</th>\n",
       "      <th>Generation</th>\n",
       "      <th>Legendary</th>\n",
       "    </tr>\n",
       "  </thead>\n",
       "  <tbody>\n",
       "    <tr>\n",
       "      <th>156</th>\n",
       "      <td>144</td>\n",
       "      <td>Articuno</td>\n",
       "      <td>Ice</td>\n",
       "      <td>Flying</td>\n",
       "      <td>580</td>\n",
       "      <td>90</td>\n",
       "      <td>85</td>\n",
       "      <td>100</td>\n",
       "      <td>95</td>\n",
       "      <td>125</td>\n",
       "      <td>85</td>\n",
       "      <td>1</td>\n",
       "      <td>True</td>\n",
       "    </tr>\n",
       "    <tr>\n",
       "      <th>157</th>\n",
       "      <td>145</td>\n",
       "      <td>Zapdos</td>\n",
       "      <td>Electric</td>\n",
       "      <td>Flying</td>\n",
       "      <td>580</td>\n",
       "      <td>90</td>\n",
       "      <td>90</td>\n",
       "      <td>85</td>\n",
       "      <td>125</td>\n",
       "      <td>90</td>\n",
       "      <td>100</td>\n",
       "      <td>1</td>\n",
       "      <td>True</td>\n",
       "    </tr>\n",
       "    <tr>\n",
       "      <th>158</th>\n",
       "      <td>146</td>\n",
       "      <td>Moltres</td>\n",
       "      <td>Fire</td>\n",
       "      <td>Flying</td>\n",
       "      <td>580</td>\n",
       "      <td>90</td>\n",
       "      <td>100</td>\n",
       "      <td>90</td>\n",
       "      <td>125</td>\n",
       "      <td>85</td>\n",
       "      <td>90</td>\n",
       "      <td>1</td>\n",
       "      <td>True</td>\n",
       "    </tr>\n",
       "    <tr>\n",
       "      <th>162</th>\n",
       "      <td>150</td>\n",
       "      <td>Mewtwo</td>\n",
       "      <td>Psychic</td>\n",
       "      <td>NaN</td>\n",
       "      <td>680</td>\n",
       "      <td>106</td>\n",
       "      <td>110</td>\n",
       "      <td>90</td>\n",
       "      <td>154</td>\n",
       "      <td>90</td>\n",
       "      <td>130</td>\n",
       "      <td>1</td>\n",
       "      <td>True</td>\n",
       "    </tr>\n",
       "    <tr>\n",
       "      <th>163</th>\n",
       "      <td>150</td>\n",
       "      <td>MewtwoMega Mewtwo X</td>\n",
       "      <td>Psychic</td>\n",
       "      <td>Fighting</td>\n",
       "      <td>780</td>\n",
       "      <td>106</td>\n",
       "      <td>190</td>\n",
       "      <td>100</td>\n",
       "      <td>154</td>\n",
       "      <td>100</td>\n",
       "      <td>130</td>\n",
       "      <td>1</td>\n",
       "      <td>True</td>\n",
       "    </tr>\n",
       "  </tbody>\n",
       "</table>\n",
       "</div>"
      ],
      "text/plain": [
       "       #                 Name    Type 1    Type 2  Total   HP  Attack  \\\n",
       "156  144             Articuno       Ice    Flying    580   90      85   \n",
       "157  145               Zapdos  Electric    Flying    580   90      90   \n",
       "158  146              Moltres      Fire    Flying    580   90     100   \n",
       "162  150               Mewtwo   Psychic       NaN    680  106     110   \n",
       "163  150  MewtwoMega Mewtwo X   Psychic  Fighting    780  106     190   \n",
       "\n",
       "     Defense  Sp. Atk  Sp. Def  Speed  Generation  Legendary  \n",
       "156      100       95      125     85           1       True  \n",
       "157       85      125       90    100           1       True  \n",
       "158       90      125       85     90           1       True  \n",
       "162       90      154       90    130           1       True  \n",
       "163      100      154      100    130           1       True  "
      ]
     },
     "execution_count": 19,
     "metadata": {},
     "output_type": "execute_result"
    }
   ],
   "source": [
    "### Your solution here\n",
    "df2 = df[df[\"Legendary\"] == True]\n",
    "df2.head()"
   ]
  },
  {
   "cell_type": "markdown",
   "metadata": {},
   "source": [
    "### 2A4. Print ONLY the mean HP, Attack, Defense, and Speed of all Legendary pokemon using pandas functions (4 marks)"
   ]
  },
  {
   "cell_type": "code",
   "execution_count": 46,
   "metadata": {},
   "outputs": [
    {
     "name": "stdout",
     "output_type": "stream",
     "text": [
      "             HP      Attack    Defense       Speed\n",
      "mean  92.738462  116.676923  99.661538  100.184615\n"
     ]
    }
   ],
   "source": [
    "### Your solution here\n",
    "data2 = {'HP': [df2[\"HP\"].mean()],\n",
    "        'Attack': [df2[\"Attack\"].mean()],\n",
    "        'Defense': [df2[\"Defense\"].mean()],\n",
    "        'Speed': [df2[\"Speed\"].mean()]}\n",
    "output = pd.DataFrame(data2, [\"mean\"], [\"HP\", \"Attack\", \"Defense\", \"Speed\"])\n",
    "\n",
    "print(output)"
   ]
  },
  {
   "cell_type": "markdown",
   "metadata": {},
   "source": [
    "## Part 3 - Dictionaries, Lists and data manapulation (10 marks)\n",
    "\n",
    "In this part we explore another fundamental data structure in python, called Dictionaries."
   ]
  },
  {
   "cell_type": "markdown",
   "metadata": {},
   "source": [
    "### 3A. Create a dictionary that has 3 keys: name, age and salary, and enter in the following dummy information. (2 marks)\n",
    "\n",
    "#### Sample output\n",
    "> {'name': 'Tim Cook', 'age': 59, 'salary': 3000000.0}"
   ]
  },
  {
   "cell_type": "code",
   "execution_count": 63,
   "metadata": {},
   "outputs": [],
   "source": [
    "### Your solution here"
   ]
  },
  {
   "cell_type": "code",
   "execution_count": 64,
   "metadata": {},
   "outputs": [
    {
     "name": "stdout",
     "output_type": "stream",
     "text": [
      "{'name': 'Tim Cook', 'age': 59, 'salary': 3000000.0}\n"
     ]
    }
   ],
   "source": [
    "### Your solution here\n",
    "tim = {'name': 'Tim Cook', 'age': 59, 'salary': 3000000.0}\n",
    "print(tim)"
   ]
  },
  {
   "cell_type": "markdown",
   "metadata": {},
   "source": [
    "### 3B. Create a second dictionary, this time with at least 5 different names, ages, and salaries. (2 marks)\n",
    "\n",
    "*Hint: There should only be three keys, and the values should be a list.*\n",
    "\n",
    "#### Sample Output\n",
    "\n",
    "> {'name': ['Tim Cook', 'Person 2', 'Person 3'],\n",
    "> 'age': [59, 24, 40],\n",
    "> 'salary': [30000000.0, 200000.0, 900000.0]}"
   ]
  },
  {
   "cell_type": "code",
   "execution_count": 65,
   "metadata": {},
   "outputs": [
    {
     "name": "stdout",
     "output_type": "stream",
     "text": [
      "{'name': ['Tim Cook', 'Person 2', 'Person 3', 'Person 4', 'Person 5'], 'age': [59, 24, 40, 43, 71], 'salary': [30000000.0, 200000.0, 900000.0, 900000.0, 900000.0]}\n"
     ]
    }
   ],
   "source": [
    "### Your solution here\n",
    "dict2 = {'name': ['Tim Cook', 'Person 2', 'Person 3', 'Person 4', 'Person 5'], 'age': [59, 24, 40, 43, 71], 'salary': [30000000.0, 200000.0, 900000.0, 900000.0, 900000.0]}\n",
    "print(dict2)"
   ]
  },
  {
   "cell_type": "markdown",
   "metadata": {},
   "source": [
    "### 3C. Create a pandas dataframe using the dictionary you created above (2 marks)\n",
    "\n",
    "**Hint: Use the `pd.DataFrame.from_dict()` method**\n",
    "\n",
    "#### Sample output\n",
    "![](df.png)"
   ]
  },
  {
   "cell_type": "code",
   "execution_count": 66,
   "metadata": {},
   "outputs": [],
   "source": [
    "### Your solution here\n",
    "df = pd.DataFrame.from_dict(dict2)"
   ]
  },
  {
   "cell_type": "markdown",
   "metadata": {},
   "source": [
    "### 3D. Rename all three columns of the dataframe (4 mark)\n",
    "\n",
    "*Hint: you should use the pandas function [rename()](https://pandas.pydata.org/pandas-docs/stable/reference/api/pandas.DataFrame.rename.html) to accomplish this. You can rename it to whatever you like, just show us you are able to use this function*\n"
   ]
  },
  {
   "cell_type": "code",
   "execution_count": 56,
   "metadata": {},
   "outputs": [
    {
     "data": {
      "text/html": [
       "<div>\n",
       "<style scoped>\n",
       "    .dataframe tbody tr th:only-of-type {\n",
       "        vertical-align: middle;\n",
       "    }\n",
       "\n",
       "    .dataframe tbody tr th {\n",
       "        vertical-align: top;\n",
       "    }\n",
       "\n",
       "    .dataframe thead th {\n",
       "        text-align: right;\n",
       "    }\n",
       "</style>\n",
       "<table border=\"1\" class=\"dataframe\">\n",
       "  <thead>\n",
       "    <tr style=\"text-align: right;\">\n",
       "      <th></th>\n",
       "      <th>Jordan</th>\n",
       "      <th>is</th>\n",
       "      <th>GOAT</th>\n",
       "    </tr>\n",
       "  </thead>\n",
       "  <tbody>\n",
       "    <tr>\n",
       "      <th>0</th>\n",
       "      <td>Tim Cook</td>\n",
       "      <td>59</td>\n",
       "      <td>30000000.0</td>\n",
       "    </tr>\n",
       "    <tr>\n",
       "      <th>1</th>\n",
       "      <td>Person 2</td>\n",
       "      <td>24</td>\n",
       "      <td>200000.0</td>\n",
       "    </tr>\n",
       "    <tr>\n",
       "      <th>2</th>\n",
       "      <td>Person 3</td>\n",
       "      <td>40</td>\n",
       "      <td>900000.0</td>\n",
       "    </tr>\n",
       "    <tr>\n",
       "      <th>3</th>\n",
       "      <td>Person 4</td>\n",
       "      <td>43</td>\n",
       "      <td>900000.0</td>\n",
       "    </tr>\n",
       "    <tr>\n",
       "      <th>4</th>\n",
       "      <td>Person 5</td>\n",
       "      <td>71</td>\n",
       "      <td>900000.0</td>\n",
       "    </tr>\n",
       "  </tbody>\n",
       "</table>\n",
       "</div>"
      ],
      "text/plain": [
       "     Jordan  is        GOAT\n",
       "0  Tim Cook  59  30000000.0\n",
       "1  Person 2  24    200000.0\n",
       "2  Person 3  40    900000.0\n",
       "3  Person 4  43    900000.0\n",
       "4  Person 5  71    900000.0"
      ]
     },
     "execution_count": 56,
     "metadata": {},
     "output_type": "execute_result"
    }
   ],
   "source": [
    "### Your solution here\n",
    "df.rename(columns = {\"name\":\"Jordan\", \"age\":\"is\", \"salary\":\"GOAT\"})"
   ]
  },
  {
   "cell_type": "markdown",
   "metadata": {},
   "source": [
    "## Part 4 - More dictionary practice (3 marks - Bonus)\n",
    "\n",
    "**(Bonus)** (3 marks) Create a Python program that takes a string text and calculates the frequency of each word. Data set (copy as string into Python code)\n",
    "\n",
    "text = \"\"\"Elephants are mammals of the family Elephantidae and the largest existing land animals. Three species are currently recognised: the African bush elephant, the African forest elephant, and the Asian elephant. Elephantidae is the only surviving family of the order Proboscidea; extinct members include the mastodons. The family Elephantidae also contains several now-extinct groups, including the mammoths and straight-tusked elephants. African elephants have larger ears and concave backs, whereas Asian elephants have smaller ears, and convex or level backs. Distinctive features of all elephants include a long trunk, tusks, large ear flaps, massive legs, and tough but sensitive skin. The trunk, also called a proboscis, is used for breathing, bringing food and water to the mouth, and grasping objects. Tusks, which are derived from the incisor teeth, serve both as weapons and as tools for moving objects and digging. The large ear flaps assist in maintaining a constant body temperature as well as in communication. The pillar-like legs carry their great weight. Elephants are scattered throughout sub-Saharan Africa, South Asia, and Southeast Asia and are found in different habitats, including savannahs, forests, deserts, and marshes. They are herbivorous, and they stay near water when it is accessible. They are considered to be keystone species, due to their impact on their environments.[1] Other animals tend to keep their distance from elephants; the exception is their predators such as lions, tigers, hyenas, and wild dogs, which usually target only young elephants (calves). Elephants have a fission–fusion society, in which multiple family groups come together to socialise. Females (cows) tend to live in family groups, which can consist of one female with her calves or several related females with offspring. The groups, which do not include bulls, are led by the (usually) oldest cow, known as the matriarch.\"\"\"\n",
    "\n",
    "*Hint: There are many ways to do this, the most \"elegant\" way uses a mixture of regular expressions on the `findall` function from the `re` library, and the `Counter` modules from [`collections`](https://docs.python.org/3/library/collections.html#counter-objects)*\n",
    "\n",
    "\n",
    "#### Sample output:\n",
    "\n",
    ">'1': Count of 1 and Percentage of 0.1% <br>\n",
    ">'a': Count of 4 and Percentage of 0.2% <br>\n",
    ">'accessible': Count of 1 and Percentage of 0.1% <br>\n",
    ">'africa': Count of 1 and Percentage of 0.1% <br>\n",
    ">'african': Count of 3 and Percentage of 0.2% <br>\n",
    ">'all': Count of 1 and Percentage of 0.1% <br>\n",
    ">'also': Count of 2 and Percentage of 0.1% <br>\n",
    ">'and': Count of 15 and Percentage of 0.8% <br>\n",
    ">'animals': Count of 2 and Percentage of 0.1% <br>\n",
    ">'are': Count of 8 and Percentage of 0.4% <br>\n",
    ">'as': Count of 6 and Percentage of 0.3% <br>\n",
    "> ...\n",
    ">'the': Count of 19 and Percentage of 1.0% <br>\n",
    ">'their': Count of 5 and Percentage of 0.3% <br>\n",
    ">'they': Count of 3 and Percentage of 0.2% <br>\n",
    ">'three': Count of 1 and Percentage of 0.1% <br>\n",
    ">'throughout': Count of 1 and Percentage of 0.1% <br>\n",
    ">'tigers': Count of 1 and Percentage of 0.1% <br>\n",
    ">'to': Count of 6 and Percentage of 0.3% <br>\n",
    ">'together': Count of 1 and Percentage of 0.1% <br>\n",
    ">... <br>\n",
    ">'usually': Count of 2 and Percentage of 0.1% <br>\n",
    ">'water': Count of 2 and Percentage of 0.1% <br>\n",
    ">'weapons': Count of 1 and Percentage of 0.1% <br>\n",
    ">'weight': Count of 1 and Percentage of 0.1% <br>\n",
    ">'well': Count of 1 and Percentage of 0.1% <br>\n",
    ">'when': Count of 1 and Percentage of 0.1% <br>\n",
    ">'whereas': Count of 1 and Percentage of 0.1% <br>\n",
    ">'which': Count of 5 and Percentage of 0.3% <br>\n",
    ">'wild': Count of 1 and Percentage of 0.1% <br>\n",
    ">'with': Count of 2 and Percentage of 0.1% <br>\n",
    ">'young': Count of 1 and Percentage of 0.1% <br>"
   ]
  },
  {
   "cell_type": "code",
   "execution_count": 6,
   "metadata": {},
   "outputs": [
    {
     "name": "stdout",
     "output_type": "stream",
     "text": [
      "'1': Count of 1 and Percentage of 0.3%\n",
      "'a': Count of 4 and Percentage of 1.3%\n",
      "'accessible': Count of 1 and Percentage of 0.3%\n",
      "'africa': Count of 1 and Percentage of 0.3%\n",
      "'african': Count of 3 and Percentage of 1.0%\n",
      "'all': Count of 1 and Percentage of 0.3%\n",
      "'also': Count of 2 and Percentage of 0.7%\n",
      "'and': Count of 15 and Percentage of 5.0%\n",
      "'animals': Count of 2 and Percentage of 0.7%\n",
      "'are': Count of 8 and Percentage of 2.7%\n",
      "'as': Count of 6 and Percentage of 2.0%\n",
      "'asia': Count of 2 and Percentage of 0.7%\n",
      "'asian': Count of 2 and Percentage of 0.7%\n",
      "'assist': Count of 1 and Percentage of 0.3%\n",
      "'backs': Count of 2 and Percentage of 0.7%\n",
      "'be': Count of 1 and Percentage of 0.3%\n",
      "'body': Count of 1 and Percentage of 0.3%\n",
      "'both': Count of 1 and Percentage of 0.3%\n",
      "'breathing': Count of 1 and Percentage of 0.3%\n",
      "'bringing': Count of 1 and Percentage of 0.3%\n",
      "'bulls': Count of 1 and Percentage of 0.3%\n",
      "'bush': Count of 1 and Percentage of 0.3%\n",
      "'but': Count of 1 and Percentage of 0.3%\n",
      "'by': Count of 1 and Percentage of 0.3%\n",
      "'called': Count of 1 and Percentage of 0.3%\n",
      "'calves': Count of 2 and Percentage of 0.7%\n",
      "'can': Count of 1 and Percentage of 0.3%\n",
      "'carry': Count of 1 and Percentage of 0.3%\n",
      "'come': Count of 1 and Percentage of 0.3%\n",
      "'communication': Count of 1 and Percentage of 0.3%\n",
      "'concave': Count of 1 and Percentage of 0.3%\n",
      "'considered': Count of 1 and Percentage of 0.3%\n",
      "'consist': Count of 1 and Percentage of 0.3%\n",
      "'constant': Count of 1 and Percentage of 0.3%\n",
      "'contains': Count of 1 and Percentage of 0.3%\n",
      "'convex': Count of 1 and Percentage of 0.3%\n",
      "'cow': Count of 1 and Percentage of 0.3%\n",
      "'cows': Count of 1 and Percentage of 0.3%\n",
      "'currently': Count of 1 and Percentage of 0.3%\n",
      "'derived': Count of 1 and Percentage of 0.3%\n",
      "'deserts': Count of 1 and Percentage of 0.3%\n",
      "'different': Count of 1 and Percentage of 0.3%\n",
      "'digging': Count of 1 and Percentage of 0.3%\n",
      "'distance': Count of 1 and Percentage of 0.3%\n",
      "'distinctive': Count of 1 and Percentage of 0.3%\n",
      "'do': Count of 1 and Percentage of 0.3%\n",
      "'dogs': Count of 1 and Percentage of 0.3%\n",
      "'due': Count of 1 and Percentage of 0.3%\n",
      "'ear': Count of 2 and Percentage of 0.7%\n",
      "'ears': Count of 2 and Percentage of 0.7%\n",
      "'elephant': Count of 3 and Percentage of 1.0%\n",
      "'elephantidae': Count of 3 and Percentage of 1.0%\n",
      "'elephants': Count of 9 and Percentage of 3.0%\n",
      "'environments': Count of 1 and Percentage of 0.3%\n",
      "'exception': Count of 1 and Percentage of 0.3%\n",
      "'existing': Count of 1 and Percentage of 0.3%\n",
      "'extinct': Count of 2 and Percentage of 0.7%\n",
      "'family': Count of 5 and Percentage of 1.7%\n",
      "'features': Count of 1 and Percentage of 0.3%\n",
      "'female': Count of 1 and Percentage of 0.3%\n",
      "'females': Count of 2 and Percentage of 0.7%\n",
      "'fission': Count of 1 and Percentage of 0.3%\n",
      "'flaps': Count of 2 and Percentage of 0.7%\n",
      "'food': Count of 1 and Percentage of 0.3%\n",
      "'for': Count of 2 and Percentage of 0.7%\n",
      "'forest': Count of 1 and Percentage of 0.3%\n",
      "'forests': Count of 1 and Percentage of 0.3%\n",
      "'found': Count of 1 and Percentage of 0.3%\n",
      "'from': Count of 2 and Percentage of 0.7%\n",
      "'fusion': Count of 1 and Percentage of 0.3%\n",
      "'grasping': Count of 1 and Percentage of 0.3%\n",
      "'great': Count of 1 and Percentage of 0.3%\n",
      "'groups': Count of 4 and Percentage of 1.3%\n",
      "'habitats': Count of 1 and Percentage of 0.3%\n",
      "'have': Count of 3 and Percentage of 1.0%\n",
      "'her': Count of 1 and Percentage of 0.3%\n",
      "'herbivorous': Count of 1 and Percentage of 0.3%\n",
      "'hyenas': Count of 1 and Percentage of 0.3%\n",
      "'impact': Count of 1 and Percentage of 0.3%\n",
      "'in': Count of 5 and Percentage of 1.7%\n",
      "'incisor': Count of 1 and Percentage of 0.3%\n",
      "'include': Count of 3 and Percentage of 1.0%\n",
      "'including': Count of 2 and Percentage of 0.7%\n",
      "'is': Count of 4 and Percentage of 1.3%\n",
      "'it': Count of 1 and Percentage of 0.3%\n",
      "'keep': Count of 1 and Percentage of 0.3%\n",
      "'keystone': Count of 1 and Percentage of 0.3%\n",
      "'known': Count of 1 and Percentage of 0.3%\n",
      "'land': Count of 1 and Percentage of 0.3%\n",
      "'large': Count of 2 and Percentage of 0.7%\n",
      "'larger': Count of 1 and Percentage of 0.3%\n",
      "'largest': Count of 1 and Percentage of 0.3%\n",
      "'led': Count of 1 and Percentage of 0.3%\n",
      "'legs': Count of 2 and Percentage of 0.7%\n",
      "'level': Count of 1 and Percentage of 0.3%\n",
      "'like': Count of 1 and Percentage of 0.3%\n",
      "'lions': Count of 1 and Percentage of 0.3%\n",
      "'live': Count of 1 and Percentage of 0.3%\n",
      "'long': Count of 1 and Percentage of 0.3%\n",
      "'maintaining': Count of 1 and Percentage of 0.3%\n",
      "'mammals': Count of 1 and Percentage of 0.3%\n",
      "'mammoths': Count of 1 and Percentage of 0.3%\n",
      "'marshes': Count of 1 and Percentage of 0.3%\n",
      "'massive': Count of 1 and Percentage of 0.3%\n",
      "'mastodons': Count of 1 and Percentage of 0.3%\n",
      "'matriarch': Count of 1 and Percentage of 0.3%\n",
      "'members': Count of 1 and Percentage of 0.3%\n",
      "'mouth': Count of 1 and Percentage of 0.3%\n",
      "'moving': Count of 1 and Percentage of 0.3%\n",
      "'multiple': Count of 1 and Percentage of 0.3%\n",
      "'near': Count of 1 and Percentage of 0.3%\n",
      "'not': Count of 1 and Percentage of 0.3%\n",
      "'now': Count of 1 and Percentage of 0.3%\n",
      "'objects': Count of 2 and Percentage of 0.7%\n",
      "'of': Count of 4 and Percentage of 1.3%\n",
      "'offspring': Count of 1 and Percentage of 0.3%\n",
      "'oldest': Count of 1 and Percentage of 0.3%\n",
      "'on': Count of 1 and Percentage of 0.3%\n",
      "'one': Count of 1 and Percentage of 0.3%\n",
      "'only': Count of 2 and Percentage of 0.7%\n",
      "'or': Count of 2 and Percentage of 0.7%\n",
      "'order': Count of 1 and Percentage of 0.3%\n",
      "'other': Count of 1 and Percentage of 0.3%\n",
      "'pillar': Count of 1 and Percentage of 0.3%\n",
      "'predators': Count of 1 and Percentage of 0.3%\n",
      "'proboscidea': Count of 1 and Percentage of 0.3%\n",
      "'proboscis': Count of 1 and Percentage of 0.3%\n",
      "'recognised': Count of 1 and Percentage of 0.3%\n",
      "'related': Count of 1 and Percentage of 0.3%\n",
      "'saharan': Count of 1 and Percentage of 0.3%\n",
      "'savannahs': Count of 1 and Percentage of 0.3%\n",
      "'scattered': Count of 1 and Percentage of 0.3%\n",
      "'sensitive': Count of 1 and Percentage of 0.3%\n",
      "'serve': Count of 1 and Percentage of 0.3%\n",
      "'several': Count of 2 and Percentage of 0.7%\n",
      "'skin': Count of 1 and Percentage of 0.3%\n",
      "'smaller': Count of 1 and Percentage of 0.3%\n",
      "'socialise': Count of 1 and Percentage of 0.3%\n",
      "'society': Count of 1 and Percentage of 0.3%\n",
      "'south': Count of 1 and Percentage of 0.3%\n",
      "'southeast': Count of 1 and Percentage of 0.3%\n",
      "'species': Count of 2 and Percentage of 0.7%\n",
      "'stay': Count of 1 and Percentage of 0.3%\n",
      "'straight': Count of 1 and Percentage of 0.3%\n",
      "'sub': Count of 1 and Percentage of 0.3%\n",
      "'such': Count of 1 and Percentage of 0.3%\n",
      "'surviving': Count of 1 and Percentage of 0.3%\n",
      "'target': Count of 1 and Percentage of 0.3%\n",
      "'teeth': Count of 1 and Percentage of 0.3%\n",
      "'temperature': Count of 1 and Percentage of 0.3%\n",
      "'tend': Count of 2 and Percentage of 0.7%\n",
      "'the': Count of 19 and Percentage of 6.3%\n",
      "'their': Count of 5 and Percentage of 1.7%\n",
      "'they': Count of 3 and Percentage of 1.0%\n",
      "'three': Count of 1 and Percentage of 0.3%\n",
      "'throughout': Count of 1 and Percentage of 0.3%\n",
      "'tigers': Count of 1 and Percentage of 0.3%\n",
      "'to': Count of 6 and Percentage of 2.0%\n",
      "'together': Count of 1 and Percentage of 0.3%\n",
      "'tools': Count of 1 and Percentage of 0.3%\n",
      "'tough': Count of 1 and Percentage of 0.3%\n",
      "'trunk': Count of 2 and Percentage of 0.7%\n",
      "'tusked': Count of 1 and Percentage of 0.3%\n",
      "'tusks': Count of 2 and Percentage of 0.7%\n",
      "'used': Count of 1 and Percentage of 0.3%\n",
      "'usually': Count of 2 and Percentage of 0.7%\n",
      "'water': Count of 2 and Percentage of 0.7%\n",
      "'weapons': Count of 1 and Percentage of 0.3%\n",
      "'weight': Count of 1 and Percentage of 0.3%\n",
      "'well': Count of 1 and Percentage of 0.3%\n",
      "'when': Count of 1 and Percentage of 0.3%\n",
      "'whereas': Count of 1 and Percentage of 0.3%\n",
      "'which': Count of 5 and Percentage of 1.7%\n",
      "'wild': Count of 1 and Percentage of 0.3%\n",
      "'with': Count of 2 and Percentage of 0.7%\n",
      "'young': Count of 1 and Percentage of 0.3%\n"
     ]
    }
   ],
   "source": [
    "text = \"\"\"Elephants are mammals of the family Elephantidae and the largest existing land animals. Three species are currently recognised: the African bush elephant, the African forest elephant, and the Asian elephant. Elephantidae is the only surviving family of the order Proboscidea; extinct members include the mastodons. The family Elephantidae also contains several now-extinct groups, including the mammoths and straight-tusked elephants. African elephants have larger ears and concave backs, whereas Asian elephants have smaller ears, and convex or level backs. Distinctive features of all elephants include a long trunk, tusks, large ear flaps, massive legs, and tough but sensitive skin. The trunk, also called a proboscis, is used for breathing, bringing food and water to the mouth, and grasping objects. Tusks, which are derived from the incisor teeth, serve both as weapons and as tools for moving objects and digging. The large ear flaps assist in maintaining a constant body temperature as well as in communication. The pillar-like legs carry their great weight. Elephants are scattered throughout sub-Saharan Africa, South Asia, and Southeast Asia and are found in different habitats, including savannahs, forests, deserts, and marshes. They are herbivorous, and they stay near water when it is accessible. They are considered to be keystone species, due to their impact on their environments.[1] Other animals tend to keep their distance from elephants; the exception is their predators such as lions, tigers, hyenas, and wild dogs, which usually target only young elephants (calves). Elephants have a fission–fusion society, in which multiple family groups come together to socialise. Females (cows) tend to live in family groups, which can consist of one female with her calves or several related females with offspring. The groups, which do not include bulls, are led by the (usually) oldest cow, known as the matriarch.\"\"\"\n",
    "\n",
    "### Your solution here\n",
    "import re\n",
    "from collections import Counter\n",
    "\n",
    "words = [str.lower() for str in re.findall(\"\\w+\", text)]\n",
    "levels = sorted(Counter(words).most_common())\n",
    "\n",
    "for i in range(0, len(levels)):\n",
    "    print(\"\\'{word}\\': Count of {count} and Percentage of {percentage:.{precision}f}%\".format(\n",
    "        word = levels[i][0],\n",
    "        count = levels[i][1],\n",
    "        percentage = 100 * levels[i][1]/len(words),\n",
    "        precision = 1\n",
    "    ))"
   ]
  },
  {
   "cell_type": "code",
   "execution_count": null,
   "metadata": {},
   "outputs": [],
   "source": []
  },
  {
   "cell_type": "code",
   "execution_count": null,
   "metadata": {},
   "outputs": [],
   "source": []
  }
 ],
 "metadata": {
  "kernelspec": {
   "display_name": "Python 3",
   "language": "python",
   "name": "python3"
  },
  "language_info": {
   "codemirror_mode": {
    "name": "ipython",
    "version": 3
   },
   "file_extension": ".py",
   "mimetype": "text/x-python",
   "name": "python",
   "nbconvert_exporter": "python",
   "pygments_lexer": "ipython3",
   "version": "3.8.5"
  },
  "nteract": {
   "version": "0.25.0"
  }
 },
 "nbformat": 4,
 "nbformat_minor": 4
}
